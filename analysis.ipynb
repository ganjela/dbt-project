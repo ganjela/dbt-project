{
 "cells": [
  {
   "cell_type": "code",
   "execution_count": null,
   "metadata": {},
   "outputs": [
    {
     "name": "stdout",
     "output_type": "stream",
     "text": [
      "Index(['channel_name', 'channel_id'], dtype='object')\n",
      "Index(['customer_id', 'first_name', 'last_name', 'email'], dtype='object')\n",
      "Index(['name', 'city', 'price', 'product_id'], dtype='object')\n",
      "Index(['Product name', 'Quantity', 'Total amount', 'Sales Channel',\n",
      "       'Customer First Name', 'Customer Last Name', 'Customer Email',\n",
      "       'Series City', 'Created Date', 'Reseller ID', 'Transaction ID'],\n",
      "      dtype='object')\n",
      "Index(['reseller_id', 'reseller_name', 'commission_pct'], dtype='object')\n"
     ]
    }
   ],
   "source": [
    "import pandas as pd\n",
    "\n",
    "print(pd.read_parquet('analytics/shared/parquet/channels.parquet', engine='fastparquet').columns)\n",
    "print(pd.read_parquet('analytics/shared/parquet/customers.parquet', engine='fastparquet').columns)\n",
    "print(pd.read_parquet('analytics/shared/parquet/products.parquet', engine='fastparquet').columns)\n",
    "print(pd.read_parquet('analytics/shared/parquet/resellers_type1.parquet', engine='fastparquet').columns)\n",
    "print(pd.read_parquet('analytics/shared/parquet/resellers.parquet', engine='fastparquet').columns)\n"
   ]
  }
 ],
 "metadata": {
  "kernelspec": {
   "display_name": ".venv",
   "language": "python",
   "name": "python3"
  },
  "language_info": {
   "codemirror_mode": {
    "name": "ipython",
    "version": 3
   },
   "file_extension": ".py",
   "mimetype": "text/x-python",
   "name": "python",
   "nbconvert_exporter": "python",
   "pygments_lexer": "ipython3",
   "version": "3.10.12"
  }
 },
 "nbformat": 4,
 "nbformat_minor": 2
}
